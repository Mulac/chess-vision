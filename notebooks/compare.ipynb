{
 "cells": [
  {
   "cell_type": "code",
   "execution_count": 4,
   "metadata": {},
   "outputs": [],
   "source": [
    "import os\n",
    "import sys\n",
    "sys.path.append('..')\n",
    "from chessvision.util import *\n",
    "os.environ[STORAGE_ENV] = \"/home/calum/Documents/uni/chess-vision/games\""
   ]
  },
  {
   "cell_type": "code",
   "execution_count": 5,
   "metadata": {},
   "outputs": [
    {
     "data": {
      "text/plain": [
       "(840, 175)"
      ]
     },
     "execution_count": 5,
     "metadata": {},
     "output_type": "execute_result"
    }
   ],
   "source": [
    "from chessvision.game import *\n",
    "train_games = [Game(\"Evans\", i) for i in range(8)] + [Game(\"Adams\", i) for i in range(3)]\n",
    "valid_games = [Game(\"Bird\", 2), Game(\"Kasparov\", 0)]\n",
    "sum(len(g) for g in train_games), sum(len(g) for g in valid_games)"
   ]
  },
  {
   "cell_type": "code",
   "execution_count": 7,
   "metadata": {},
   "outputs": [
    {
     "data": {
      "text/plain": [
       "'project_MYM_data/test'"
      ]
     },
     "execution_count": 7,
     "metadata": {},
     "output_type": "execute_result"
    }
   ],
   "source": [
    "save_games(train_games, label_occupied, OCCUPIED_LABELS, 'project_MYM_data/train')\n",
    "save_games(valid_games, label_occupied, OCCUPIED_LABELS, 'project_MYM_data/test')"
   ]
  },
  {
   "cell_type": "markdown",
   "metadata": {},
   "source": [
    "## https://web.stanford.edu/class/cs231a/prev_projects_2016/CS_231A_Final_Report.pdf"
   ]
  },
  {
   "cell_type": "code",
   "execution_count": 10,
   "metadata": {},
   "outputs": [
    {
     "data": {
      "text/plain": [
       "'project_MYM_data/test'"
      ]
     },
     "execution_count": 10,
     "metadata": {},
     "output_type": "execute_result"
    }
   ],
   "source": [
    "save_games(train_games, label, PIECE_LABELS, 'project_MYM_data/train')\n",
    "save_games(valid_games, label, PIECE_LABELS, 'project_MYM_data/test')"
   ]
  },
  {
   "cell_type": "code",
   "execution_count": 4,
   "metadata": {},
   "outputs": [
    {
     "name": "stdout",
     "output_type": "stream",
     "text": [
      "Processing HOG\n"
     ]
    }
   ],
   "source": [
    "from ChessVision import train\n",
    "from ChessVision import preprocessing\n",
    "preprocessing.preprocessing_hog(\"ChessVision_data/train\")"
   ]
  },
  {
   "cell_type": "code",
   "execution_count": 5,
   "metadata": {},
   "outputs": [
    {
     "name": "stdout",
     "output_type": "stream",
     "text": [
      "[1 1 1 ... 0 0 0]\n",
      "[0 0 0 ... 0 0 0]\n",
      "[0 0 0 ... 0 0 0]\n",
      "[0 0 0 ... 0 0 0]\n",
      "[0 0 0 ... 0 0 0]\n",
      "[0 0 0 ... 0 0 0]\n",
      "[0 0 0 ... 1 1 1]\n"
     ]
    }
   ],
   "source": [
    "train.train_hog()"
   ]
  },
  {
   "cell_type": "code",
   "execution_count": 1,
   "metadata": {},
   "outputs": [
    {
     "name": "stdout",
     "output_type": "stream",
     "text": [
      "327 213\n",
      "accuracy: 0.6513761467889908\n"
     ]
    }
   ],
   "source": [
    "from ChessVision import test\n",
    "test.test_hog_calum()"
   ]
  },
  {
   "cell_type": "markdown",
   "metadata": {},
   "source": [
    "## https://towardsdatascience.com/board-game-image-recognition-using-neural-networks-116fc876dafa"
   ]
  },
  {
   "cell_type": "code",
   "execution_count": 2,
   "metadata": {},
   "outputs": [
    {
     "name": "stdout",
     "output_type": "stream",
     "text": [
      "Cloning into 'project_MYM'...\n",
      "remote: Enumerating objects: 51, done.\u001b[K\n",
      "remote: Counting objects: 100% (51/51), done.\u001b[K\n",
      "remote: Compressing objects: 100% (39/39), done.\u001b[K\n",
      "remote: Total 51 (delta 26), reused 32 (delta 12), pack-reused 0\u001b[K\n",
      "Unpacking objects: 100% (51/51), 72.02 KiB | 1.04 MiB/s, done.\n"
     ]
    }
   ],
   "source": [
    "!git clone https://github.com/andrewleeunderwood/project_MYM.git"
   ]
  },
  {
   "cell_type": "code",
   "execution_count": null,
   "metadata": {},
   "outputs": [],
   "source": []
  }
 ],
 "metadata": {
  "interpreter": {
   "hash": "2958ef61cfd09b59eb9007481b9f36fdd1b9b6c66b10c71e9bbfb85172bd7e2b"
  },
  "kernelspec": {
   "display_name": "Python 3.8.5 ('base')",
   "language": "python",
   "name": "python3"
  },
  "language_info": {
   "codemirror_mode": {
    "name": "ipython",
    "version": 3
   },
   "file_extension": ".py",
   "mimetype": "text/x-python",
   "name": "python",
   "nbconvert_exporter": "python",
   "pygments_lexer": "ipython3",
   "version": "3.8.5"
  },
  "orig_nbformat": 4
 },
 "nbformat": 4,
 "nbformat_minor": 2
}
