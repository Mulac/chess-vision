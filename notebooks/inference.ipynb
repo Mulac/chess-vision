{
 "cells": [
  {
   "cell_type": "code",
   "execution_count": 4,
   "metadata": {},
   "outputs": [],
   "source": [
    "import sys\n",
    "sys.path.append('..')\n",
    "import chessvision.label as label\n",
    "import chess"
   ]
  },
  {
   "cell_type": "code",
   "execution_count": 6,
   "metadata": {},
   "outputs": [],
   "source": [
    "from itertools import groupby\n",
    "def count(groups): \n",
    "    for key, group in groups: \n",
    "        yield key, sum(1 for _ in group)"
   ]
  },
  {
   "cell_type": "markdown",
   "metadata": {},
   "source": [
    "## Let's benchmark some implementations of `to_fen`"
   ]
  },
  {
   "cell_type": "code",
   "execution_count": 9,
   "metadata": {},
   "outputs": [],
   "source": [
    "def to_fen_a(board):\n",
    "    fen = \"\"\n",
    "    empty_count = 0\n",
    "    for i in range(8):\n",
    "        for j in range(8):\n",
    "            piece = board[i*8+j]\n",
    "            if piece is None:\n",
    "                empty_count += 1\n",
    "            else:\n",
    "                if empty_count:\n",
    "                    fen += str(empty_count)\n",
    "                empty_count = 0\n",
    "                fen += label.str_from_id[piece]\n",
    "        if empty_count:\n",
    "            fen += str(empty_count)\n",
    "            empty_count = 0\n",
    "        fen += \"/\"\n",
    "    return fen"
   ]
  },
  {
   "cell_type": "code",
   "execution_count": 10,
   "metadata": {},
   "outputs": [],
   "source": [
    "def to_fen_b(board):\n",
    "    def create_rank(rank):\n",
    "        r = list()\n",
    "        for piece, group in groupby(rank):\n",
    "            if piece is None:\n",
    "                r.append(str(sum(1 for _ in group)))\n",
    "            else:\n",
    "                r.extend(label.str_from_id[piece] for _ in group)\n",
    "        return ''.join(r)\n",
    "    return '/'.join(create_rank(board[r:r+8]) for r in range(0, 64, 8))"
   ]
  },
  {
   "cell_type": "code",
   "execution_count": 11,
   "metadata": {},
   "outputs": [],
   "source": [
    "def to_fen_c(board):\n",
    "    def create_rank(rank):\n",
    "        r = \"\"\n",
    "        for piece, n in count(groupby(rank)):\n",
    "            r += str(n) if piece is None else label.str_from_id[piece] * n\n",
    "        return r\n",
    "    return '/'.join(create_rank(board[r:r+8]) for r in range(0, 64, 8))"
   ]
  },
  {
   "cell_type": "code",
   "execution_count": 12,
   "metadata": {},
   "outputs": [],
   "source": [
    "def to_fen_d(board):\n",
    "    def create_rank(rank):\n",
    "        return ''.join(str(n) if piece is None else label.str_from_id[piece] * n \n",
    "            for piece, n in count(groupby(rank)))\n",
    "    return '/'.join(create_rank(board[r:r+8]) for r in range(0, 64, 8))"
   ]
  },
  {
   "cell_type": "code",
   "execution_count": 13,
   "metadata": {},
   "outputs": [
    {
     "name": "stdout",
     "output_type": "stream",
     "text": [
      "8.81 µs ± 195 ns per loop (mean ± std. dev. of 7 runs, 100000 loops each)\n",
      "11.8 µs ± 535 ns per loop (mean ± std. dev. of 7 runs, 100000 loops each)\n",
      "12.3 µs ± 748 ns per loop (mean ± std. dev. of 7 runs, 100000 loops each)\n",
      "14.3 µs ± 275 ns per loop (mean ± std. dev. of 7 runs, 100000 loops each)\n"
     ]
    }
   ],
   "source": [
    "sparse_board = [None for i in range(64)]\n",
    "%timeit to_fen_a(sparse_board)\n",
    "%timeit to_fen_b(sparse_board)\n",
    "%timeit to_fen_c(sparse_board)\n",
    "%timeit to_fen_d(sparse_board)"
   ]
  },
  {
   "cell_type": "code",
   "execution_count": 14,
   "metadata": {},
   "outputs": [
    {
     "name": "stdout",
     "output_type": "stream",
     "text": [
      "13.5 µs ± 655 ns per loop (mean ± std. dev. of 7 runs, 100000 loops each)\n",
      "15.1 µs ± 370 ns per loop (mean ± std. dev. of 7 runs, 100000 loops each)\n",
      "11.2 µs ± 326 ns per loop (mean ± std. dev. of 7 runs, 100000 loops each)\n",
      "14.1 µs ± 461 ns per loop (mean ± std. dev. of 7 runs, 100000 loops each)\n"
     ]
    }
   ],
   "source": [
    "dense_board = [7 for i in range(64)]\n",
    "%timeit to_fen_a(dense_board)\n",
    "%timeit to_fen_b(dense_board)\n",
    "%timeit to_fen_c(dense_board)\n",
    "%timeit to_fen_d(dense_board)"
   ]
  }
 ],
 "metadata": {
  "interpreter": {
   "hash": "e4eea60fe30a60bdd8db8b256ec3f73178848f321930d49a88b3afbd4785cd5e"
  },
  "kernelspec": {
   "display_name": "Python 3.8.5 ('venv': venv)",
   "language": "python",
   "name": "python3"
  },
  "language_info": {
   "codemirror_mode": {
    "name": "ipython",
    "version": 3
   },
   "file_extension": ".py",
   "mimetype": "text/x-python",
   "name": "python",
   "nbconvert_exporter": "python",
   "pygments_lexer": "ipython3",
   "version": "3.8.5"
  },
  "orig_nbformat": 4
 },
 "nbformat": 4,
 "nbformat_minor": 2
}
